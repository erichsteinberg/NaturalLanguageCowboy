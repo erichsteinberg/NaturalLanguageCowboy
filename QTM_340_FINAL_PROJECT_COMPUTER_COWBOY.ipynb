{
  "cells": [
    {
      "cell_type": "markdown",
      "metadata": {
        "id": "view-in-github",
        "colab_type": "text"
      },
      "source": [
        "<a href=\"https://colab.research.google.com/github/erichsteinberg/NaturalLanguageCowboy/blob/main/QTM_340_FINAL_PROJECT_COMPUTER_COWBOY.ipynb\" target=\"_parent\"><img src=\"https://colab.research.google.com/assets/colab-badge.svg\" alt=\"Open In Colab\"/></a>"
      ]
    },
    {
      "cell_type": "markdown",
      "metadata": {
        "id": "YnshKSSbz7gW"
      },
      "source": [
        "##QTM 340-2 F24 FINAL PROJECT: COUNTRY LYRICS ANALYSIS\n",
        "By Ari Gurovich, Eric Steinberg, Joshua Kim"
      ]
    },
    {
      "cell_type": "markdown",
      "metadata": {
        "id": "CcCNV2THW8rJ"
      },
      "source": [
        "**Research Objective:**\n",
        "We employ multiple natural language processing methods to analyze a large dataset of country song lyrics, aiming to derive insights into their emotional tone, vocabulary richness, unique language, and recurring themes\n",
        "\n",
        "Please note: some comments auto-generated through Gemini for your viewing ease\n"
      ]
    },
    {
      "cell_type": "markdown",
      "metadata": {
        "id": "p72GYr0ASGM8"
      },
      "source": [
        "###Setup and creating our datasets"
      ]
    },
    {
      "cell_type": "markdown",
      "metadata": {
        "id": "2B8wsxht9W1P"
      },
      "source": [
        "#### Importing packages"
      ]
    },
    {
      "cell_type": "markdown",
      "metadata": {
        "id": "-YxKMCaqCHpA"
      },
      "source": [
        "Install these upon new environment"
      ]
    },
    {
      "cell_type": "code",
      "execution_count": null,
      "metadata": {
        "colab": {
          "base_uri": "https://localhost:8080/"
        },
        "collapsed": true,
        "id": "1FcDi1F_Gyna",
        "outputId": "8e657ffb-6b93-46be-85dc-b0e06302f37e"
      },
      "outputs": [
        {
          "name": "stdout",
          "output_type": "stream",
          "text": [
            "Collecting datasets\n",
            "  Downloading datasets-3.2.0-py3-none-any.whl.metadata (20 kB)\n",
            "Requirement already satisfied: filelock in /usr/local/lib/python3.10/dist-packages (from datasets) (3.16.1)\n",
            "Requirement already satisfied: numpy>=1.17 in /usr/local/lib/python3.10/dist-packages (from datasets) (1.26.4)\n",
            "Requirement already satisfied: pyarrow>=15.0.0 in /usr/local/lib/python3.10/dist-packages (from datasets) (17.0.0)\n",
            "Collecting dill<0.3.9,>=0.3.0 (from datasets)\n",
            "  Downloading dill-0.3.8-py3-none-any.whl.metadata (10 kB)\n",
            "Requirement already satisfied: pandas in /usr/local/lib/python3.10/dist-packages (from datasets) (2.2.2)\n",
            "Requirement already satisfied: requests>=2.32.2 in /usr/local/lib/python3.10/dist-packages (from datasets) (2.32.3)\n",
            "Requirement already satisfied: tqdm>=4.66.3 in /usr/local/lib/python3.10/dist-packages (from datasets) (4.66.6)\n",
            "Collecting xxhash (from datasets)\n",
            "  Downloading xxhash-3.5.0-cp310-cp310-manylinux_2_17_x86_64.manylinux2014_x86_64.whl.metadata (12 kB)\n",
            "Collecting multiprocess<0.70.17 (from datasets)\n",
            "  Downloading multiprocess-0.70.16-py310-none-any.whl.metadata (7.2 kB)\n",
            "Collecting fsspec<=2024.9.0,>=2023.1.0 (from fsspec[http]<=2024.9.0,>=2023.1.0->datasets)\n",
            "  Downloading fsspec-2024.9.0-py3-none-any.whl.metadata (11 kB)\n",
            "Requirement already satisfied: aiohttp in /usr/local/lib/python3.10/dist-packages (from datasets) (3.11.10)\n",
            "Requirement already satisfied: huggingface-hub>=0.23.0 in /usr/local/lib/python3.10/dist-packages (from datasets) (0.26.5)\n",
            "Requirement already satisfied: packaging in /usr/local/lib/python3.10/dist-packages (from datasets) (24.2)\n",
            "Requirement already satisfied: pyyaml>=5.1 in /usr/local/lib/python3.10/dist-packages (from datasets) (6.0.2)\n",
            "Requirement already satisfied: aiohappyeyeballs>=2.3.0 in /usr/local/lib/python3.10/dist-packages (from aiohttp->datasets) (2.4.4)\n",
            "Requirement already satisfied: aiosignal>=1.1.2 in /usr/local/lib/python3.10/dist-packages (from aiohttp->datasets) (1.3.1)\n",
            "Requirement already satisfied: async-timeout<6.0,>=4.0 in /usr/local/lib/python3.10/dist-packages (from aiohttp->datasets) (4.0.3)\n",
            "Requirement already satisfied: attrs>=17.3.0 in /usr/local/lib/python3.10/dist-packages (from aiohttp->datasets) (24.2.0)\n",
            "Requirement already satisfied: frozenlist>=1.1.1 in /usr/local/lib/python3.10/dist-packages (from aiohttp->datasets) (1.5.0)\n",
            "Requirement already satisfied: multidict<7.0,>=4.5 in /usr/local/lib/python3.10/dist-packages (from aiohttp->datasets) (6.1.0)\n",
            "Requirement already satisfied: propcache>=0.2.0 in /usr/local/lib/python3.10/dist-packages (from aiohttp->datasets) (0.2.1)\n",
            "Requirement already satisfied: yarl<2.0,>=1.17.0 in /usr/local/lib/python3.10/dist-packages (from aiohttp->datasets) (1.18.3)\n",
            "Requirement already satisfied: typing-extensions>=3.7.4.3 in /usr/local/lib/python3.10/dist-packages (from huggingface-hub>=0.23.0->datasets) (4.12.2)\n",
            "Requirement already satisfied: charset-normalizer<4,>=2 in /usr/local/lib/python3.10/dist-packages (from requests>=2.32.2->datasets) (3.4.0)\n",
            "Requirement already satisfied: idna<4,>=2.5 in /usr/local/lib/python3.10/dist-packages (from requests>=2.32.2->datasets) (3.10)\n",
            "Requirement already satisfied: urllib3<3,>=1.21.1 in /usr/local/lib/python3.10/dist-packages (from requests>=2.32.2->datasets) (2.2.3)\n",
            "Requirement already satisfied: certifi>=2017.4.17 in /usr/local/lib/python3.10/dist-packages (from requests>=2.32.2->datasets) (2024.8.30)\n",
            "Requirement already satisfied: python-dateutil>=2.8.2 in /usr/local/lib/python3.10/dist-packages (from pandas->datasets) (2.8.2)\n",
            "Requirement already satisfied: pytz>=2020.1 in /usr/local/lib/python3.10/dist-packages (from pandas->datasets) (2024.2)\n",
            "Requirement already satisfied: tzdata>=2022.7 in /usr/local/lib/python3.10/dist-packages (from pandas->datasets) (2024.2)\n",
            "Requirement already satisfied: six>=1.5 in /usr/local/lib/python3.10/dist-packages (from python-dateutil>=2.8.2->pandas->datasets) (1.17.0)\n",
            "Downloading datasets-3.2.0-py3-none-any.whl (480 kB)\n",
            "\u001b[2K   \u001b[90m━━━━━━━━━━━━━━━━━━━━━━━━━━━━━━━━━━━━━━━━\u001b[0m \u001b[32m480.6/480.6 kB\u001b[0m \u001b[31m20.8 MB/s\u001b[0m eta \u001b[36m0:00:00\u001b[0m\n",
            "\u001b[?25hDownloading dill-0.3.8-py3-none-any.whl (116 kB)\n",
            "\u001b[2K   \u001b[90m━━━━━━━━━━━━━━━━━━━━━━━━━━━━━━━━━━━━━━━━\u001b[0m \u001b[32m116.3/116.3 kB\u001b[0m \u001b[31m6.4 MB/s\u001b[0m eta \u001b[36m0:00:00\u001b[0m\n",
            "\u001b[?25hDownloading fsspec-2024.9.0-py3-none-any.whl (179 kB)\n",
            "\u001b[2K   \u001b[90m━━━━━━━━━━━━━━━━━━━━━━━━━━━━━━━━━━━━━━━━\u001b[0m \u001b[32m179.3/179.3 kB\u001b[0m \u001b[31m15.5 MB/s\u001b[0m eta \u001b[36m0:00:00\u001b[0m\n",
            "\u001b[?25hDownloading multiprocess-0.70.16-py310-none-any.whl (134 kB)\n",
            "\u001b[2K   \u001b[90m━━━━━━━━━━━━━━━━━━━━━━━━━━━━━━━━━━━━━━━━\u001b[0m \u001b[32m134.8/134.8 kB\u001b[0m \u001b[31m5.0 MB/s\u001b[0m eta \u001b[36m0:00:00\u001b[0m\n",
            "\u001b[?25hDownloading xxhash-3.5.0-cp310-cp310-manylinux_2_17_x86_64.manylinux2014_x86_64.whl (194 kB)\n",
            "\u001b[2K   \u001b[90m━━━━━━━━━━━━━━━━━━━━━━━━━━━━━━━━━━━━━━━━\u001b[0m \u001b[32m194.1/194.1 kB\u001b[0m \u001b[31m11.7 MB/s\u001b[0m eta \u001b[36m0:00:00\u001b[0m\n",
            "\u001b[?25hInstalling collected packages: xxhash, fsspec, dill, multiprocess, datasets\n",
            "  Attempting uninstall: fsspec\n",
            "    Found existing installation: fsspec 2024.10.0\n",
            "    Uninstalling fsspec-2024.10.0:\n",
            "      Successfully uninstalled fsspec-2024.10.0\n",
            "\u001b[31mERROR: pip's dependency resolver does not currently take into account all the packages that are installed. This behaviour is the source of the following dependency conflicts.\n",
            "gcsfs 2024.10.0 requires fsspec==2024.10.0, but you have fsspec 2024.9.0 which is incompatible.\u001b[0m\u001b[31m\n",
            "\u001b[0mSuccessfully installed datasets-3.2.0 dill-0.3.8 fsspec-2024.9.0 multiprocess-0.70.16 xxhash-3.5.0\n",
            "Collecting pyLDAvis\n",
            "  Downloading pyLDAvis-3.4.1-py3-none-any.whl.metadata (4.2 kB)\n",
            "Requirement already satisfied: numpy>=1.24.2 in /usr/local/lib/python3.10/dist-packages (from pyLDAvis) (1.26.4)\n",
            "Requirement already satisfied: scipy in /usr/local/lib/python3.10/dist-packages (from pyLDAvis) (1.13.1)\n",
            "Requirement already satisfied: pandas>=2.0.0 in /usr/local/lib/python3.10/dist-packages (from pyLDAvis) (2.2.2)\n",
            "Requirement already satisfied: joblib>=1.2.0 in /usr/local/lib/python3.10/dist-packages (from pyLDAvis) (1.4.2)\n",
            "Requirement already satisfied: jinja2 in /usr/local/lib/python3.10/dist-packages (from pyLDAvis) (3.1.4)\n",
            "Requirement already satisfied: numexpr in /usr/local/lib/python3.10/dist-packages (from pyLDAvis) (2.10.2)\n",
            "Collecting funcy (from pyLDAvis)\n",
            "  Downloading funcy-2.0-py2.py3-none-any.whl.metadata (5.9 kB)\n",
            "Requirement already satisfied: scikit-learn>=1.0.0 in /usr/local/lib/python3.10/dist-packages (from pyLDAvis) (1.5.2)\n",
            "Requirement already satisfied: gensim in /usr/local/lib/python3.10/dist-packages (from pyLDAvis) (4.3.3)\n",
            "Requirement already satisfied: setuptools in /usr/local/lib/python3.10/dist-packages (from pyLDAvis) (75.1.0)\n",
            "Requirement already satisfied: python-dateutil>=2.8.2 in /usr/local/lib/python3.10/dist-packages (from pandas>=2.0.0->pyLDAvis) (2.8.2)\n",
            "Requirement already satisfied: pytz>=2020.1 in /usr/local/lib/python3.10/dist-packages (from pandas>=2.0.0->pyLDAvis) (2024.2)\n",
            "Requirement already satisfied: tzdata>=2022.7 in /usr/local/lib/python3.10/dist-packages (from pandas>=2.0.0->pyLDAvis) (2024.2)\n",
            "Requirement already satisfied: threadpoolctl>=3.1.0 in /usr/local/lib/python3.10/dist-packages (from scikit-learn>=1.0.0->pyLDAvis) (3.5.0)\n",
            "Requirement already satisfied: smart-open>=1.8.1 in /usr/local/lib/python3.10/dist-packages (from gensim->pyLDAvis) (7.0.5)\n",
            "Requirement already satisfied: MarkupSafe>=2.0 in /usr/local/lib/python3.10/dist-packages (from jinja2->pyLDAvis) (3.0.2)\n",
            "Requirement already satisfied: six>=1.5 in /usr/local/lib/python3.10/dist-packages (from python-dateutil>=2.8.2->pandas>=2.0.0->pyLDAvis) (1.17.0)\n",
            "Requirement already satisfied: wrapt in /usr/local/lib/python3.10/dist-packages (from smart-open>=1.8.1->gensim->pyLDAvis) (1.17.0)\n",
            "Downloading pyLDAvis-3.4.1-py3-none-any.whl (2.6 MB)\n",
            "\u001b[2K   \u001b[90m━━━━━━━━━━━━━━━━━━━━━━━━━━━━━━━━━━━━━━━━\u001b[0m \u001b[32m2.6/2.6 MB\u001b[0m \u001b[31m9.3 MB/s\u001b[0m eta \u001b[36m0:00:00\u001b[0m\n",
            "\u001b[?25hDownloading funcy-2.0-py2.py3-none-any.whl (30 kB)\n",
            "Installing collected packages: funcy, pyLDAvis\n",
            "Successfully installed funcy-2.0 pyLDAvis-3.4.1\n",
            "Collecting nrclex\n",
            "  Downloading NRCLex-4.0-py3-none-any.whl.metadata (3.2 kB)\n",
            "Requirement already satisfied: textblob in /usr/local/lib/python3.10/dist-packages (from nrclex) (0.17.1)\n",
            "INFO: pip is looking at multiple versions of nrclex to determine which version is compatible with other requirements. This could take a while.\n",
            "  Downloading NRCLex-3.0.0.tar.gz (396 kB)\n",
            "\u001b[2K     \u001b[90m━━━━━━━━━━━━━━━━━━━━━━━━━━━━━━━━━━━━━━━━\u001b[0m \u001b[32m396.4/396.4 kB\u001b[0m \u001b[31m25.0 MB/s\u001b[0m eta \u001b[36m0:00:00\u001b[0m\n",
            "\u001b[?25h  Preparing metadata (setup.py) ... \u001b[?25l\u001b[?25hdone\n",
            "Requirement already satisfied: nltk>=3.1 in /usr/local/lib/python3.10/dist-packages (from textblob->nrclex) (3.9.1)\n",
            "Requirement already satisfied: click in /usr/local/lib/python3.10/dist-packages (from nltk>=3.1->textblob->nrclex) (8.1.7)\n",
            "Requirement already satisfied: joblib in /usr/local/lib/python3.10/dist-packages (from nltk>=3.1->textblob->nrclex) (1.4.2)\n",
            "Requirement already satisfied: regex>=2021.8.3 in /usr/local/lib/python3.10/dist-packages (from nltk>=3.1->textblob->nrclex) (2024.9.11)\n",
            "Requirement already satisfied: tqdm in /usr/local/lib/python3.10/dist-packages (from nltk>=3.1->textblob->nrclex) (4.66.6)\n",
            "Building wheels for collected packages: nrclex\n",
            "  Building wheel for nrclex (setup.py) ... \u001b[?25l\u001b[?25hdone\n",
            "  Created wheel for nrclex: filename=NRCLex-3.0.0-py3-none-any.whl size=43308 sha256=c4889278fd3fabe9f62f5579f228fe56e9501d3abbb209308478156985794586\n",
            "  Stored in directory: /root/.cache/pip/wheels/d2/10/44/6abfb1234298806a145fd6bcaec8cbc712e88dd1cd6cb242fa\n",
            "Successfully built nrclex\n",
            "Installing collected packages: nrclex\n",
            "Successfully installed nrclex-3.0.0\n",
            "Collecting vaderSentiment\n",
            "  Downloading vaderSentiment-3.3.2-py2.py3-none-any.whl.metadata (572 bytes)\n",
            "Requirement already satisfied: requests in /usr/local/lib/python3.10/dist-packages (from vaderSentiment) (2.32.3)\n",
            "Requirement already satisfied: charset-normalizer<4,>=2 in /usr/local/lib/python3.10/dist-packages (from requests->vaderSentiment) (3.4.0)\n",
            "Requirement already satisfied: idna<4,>=2.5 in /usr/local/lib/python3.10/dist-packages (from requests->vaderSentiment) (3.10)\n",
            "Requirement already satisfied: urllib3<3,>=1.21.1 in /usr/local/lib/python3.10/dist-packages (from requests->vaderSentiment) (2.2.3)\n",
            "Requirement already satisfied: certifi>=2017.4.17 in /usr/local/lib/python3.10/dist-packages (from requests->vaderSentiment) (2024.8.30)\n",
            "Downloading vaderSentiment-3.3.2-py2.py3-none-any.whl (125 kB)\n",
            "\u001b[2K   \u001b[90m━━━━━━━━━━━━━━━━━━━━━━━━━━━━━━━━━━━━━━━━\u001b[0m \u001b[32m126.0/126.0 kB\u001b[0m \u001b[31m8.3 MB/s\u001b[0m eta \u001b[36m0:00:00\u001b[0m\n",
            "\u001b[?25hInstalling collected packages: vaderSentiment\n",
            "Successfully installed vaderSentiment-3.3.2\n"
          ]
        }
      ],
      "source": [
        "!pip install datasets\n",
        "!pip install pyLDAvis\n",
        "!pip install nrclex\n",
        "!pip install vaderSentiment"
      ]
    },
    {
      "cell_type": "code",
      "execution_count": null,
      "metadata": {
        "colab": {
          "base_uri": "https://localhost:8080/"
        },
        "id": "XPUyW5hQufyO",
        "outputId": "e9a56083-b27e-4d4b-cdec-d0419d071086"
      },
      "outputs": [
        {
          "name": "stderr",
          "output_type": "stream",
          "text": [
            "/usr/local/lib/python3.10/dist-packages/textblob/_text.py:218: DeprecationWarning: invalid escape sequence '\\.'\n",
            "  RE_ABBR1 = re.compile(\"^[A-Za-z]\\.$\")       # single letter, \"T. De Smedt\"\n",
            "/usr/local/lib/python3.10/dist-packages/textblob/_text.py:219: DeprecationWarning: invalid escape sequence '\\.'\n",
            "  RE_ABBR2 = re.compile(\"^([A-Za-z]\\.)+$\")    # alternating letters, \"U.S.\"\n",
            "[nltk_data] Downloading package punkt to /root/nltk_data...\n",
            "[nltk_data]   Unzipping tokenizers/punkt.zip.\n",
            "[nltk_data] Downloading package stopwords to /root/nltk_data...\n",
            "[nltk_data]   Unzipping corpora/stopwords.zip.\n",
            "[nltk_data] Downloading package wordnet to /root/nltk_data...\n",
            "[nltk_data] Downloading package punkt_tab to /root/nltk_data...\n",
            "[nltk_data]   Unzipping tokenizers/punkt_tab.zip.\n"
          ]
        },
        {
          "data": {
            "text/plain": [
              "True"
            ]
          },
          "execution_count": 2,
          "metadata": {},
          "output_type": "execute_result"
        }
      ],
      "source": [
        "# Core data science libraries\n",
        "import pandas as pd\n",
        "import numpy as np\n",
        "\n",
        "# Text processing and NLP libraries\n",
        "import nltk\n",
        "import re\n",
        "from nltk.corpus import stopwords\n",
        "from nltk.tokenize import word_tokenize\n",
        "from nltk.stem import WordNetLemmatizer\n",
        "\n",
        "# Topic modeling libraries\n",
        "import gensim\n",
        "from gensim.utils import simple_preprocess\n",
        "from gensim.models.coherencemodel import CoherenceModel\n",
        "from gensim.parsing.preprocessing import STOPWORDS\n",
        "from gensim.models import LdaModel\n",
        "from gensim.corpora import Dictionary\n",
        "\n",
        "# Machine learning libraries\n",
        "from sklearn.feature_extraction.text import CountVectorizer, TfidfTransformer\n",
        "\n",
        "# Visualization libraries\n",
        "import matplotlib.pyplot as plt\n",
        "import pyLDAvis\n",
        "import pyLDAvis.gensim_models as gensimvis\n",
        "\n",
        "# Utility libraries\n",
        "import logging\n",
        "from tqdm.notebook import tqdm\n",
        "from datasets import load_dataset\n",
        "import textwrap\n",
        "import math\n",
        "import itertools\n",
        "\n",
        "#Sentiment analysis\n",
        "from nrclex import NRCLex\n",
        "\n",
        "# Download NLTK data\n",
        "nltk.download('punkt')\n",
        "nltk.download('stopwords')\n",
        "nltk.download('wordnet')\n",
        "nltk.download('punkt_tab')"
      ]
    },
    {
      "cell_type": "markdown",
      "metadata": {
        "id": "bOjbY6g6zoae"
      },
      "source": [
        "#### Loading dataset and creating dataframes\n",
        "This will take a while, also make sure you're connected to a powerful gpu. Only run ONCE, it will save a CSV which will be loaded for ease of use in future environments to prevent neededing to constantly reload/resample data from HF"
      ]
    },
    {
      "cell_type": "code",
      "execution_count": null,
      "metadata": {
        "colab": {
          "base_uri": "https://localhost:8080/",
          "height": 237,
          "referenced_widgets": [
            "45ff5fe9dd9d49b1a84e28da2f3d2c5b",
            "c08f5fa202e3483387a115ab0fb7dc5d",
            "0358b66f7f364d88a1e5ac70e6f6531b",
            "f5ce5749d50a4d0784b155c7c72dc7e8",
            "3c1f6de3adbb4f7bbb92f499e865932c",
            "63939953cb794e47a45e212b06048439",
            "134af9be68bd47f4bbbf43871abc6b01",
            "ec9c73061733467ca19638a349102ab0",
            "2aa0fc56696a4ef087513b4c236a156c",
            "24d75184020744cc8d582739311c2448",
            "cb3cba295b964a819cda6fead30738a1",
            "2418ff64f4d64e31b01baf9fb29fbcb9",
            "05193570a02b428187883d62cf579343",
            "11c1f0dfb3364ea7824d79f87488d515",
            "82bf2400fe444d0eb8f38ccda65db148",
            "2d9d9a54d8cc48629dbafc984adace80",
            "ac4472a1c2d945a893c74081e5d9e7a3",
            "43d190c455b64906b0f107a0613c65df",
            "210d50d5994249c2a3048ead922e9419",
            "301ad7f83b8a4da9bff0ef01ebffbda1",
            "5038c00e59b14b7291795f20e89a6d89",
            "b3b9911a5e7e40819b107d3ea12b565f"
          ]
        },
        "id": "Cx9io-dF8Q5L",
        "outputId": "2ddb119a-30ad-44e1-dc6c-b4b4ab259952"
      },
      "outputs": [
        {
          "name": "stderr",
          "output_type": "stream",
          "text": [
            "/usr/local/lib/python3.10/dist-packages/ipykernel/ipkernel.py:283: DeprecationWarning: `should_run_async` will not call `transform_cell` automatically in the future. Please pass the result to `transformed_cell` argument and any exception that happen during thetransform in `preprocessing_exc_tuple` in IPython 7.17 and above.\n",
            "  and should_run_async(code)\n",
            "/usr/local/lib/python3.10/dist-packages/huggingface_hub/utils/_auth.py:94: UserWarning: \n",
            "The secret `HF_TOKEN` does not exist in your Colab secrets.\n",
            "To authenticate with the Hugging Face Hub, create a token in your settings tab (https://huggingface.co/settings/tokens), set it as secret in your Google Colab and restart your session.\n",
            "You will be able to reuse this secret in all of your notebooks.\n",
            "Please note that authentication is recommended but still optional to access public models or datasets.\n",
            "  warnings.warn(\n"
          ]
        },
        {
          "data": {
            "application/vnd.jupyter.widget-view+json": {
              "model_id": "45ff5fe9dd9d49b1a84e28da2f3d2c5b",
              "version_major": 2,
              "version_minor": 0
            },
            "text/plain": [
              "song_lyrics_min.csv:   0%|          | 0.00/5.66G [00:00<?, ?B/s]"
            ]
          },
          "metadata": {},
          "output_type": "display_data"
        },
        {
          "data": {
            "application/vnd.jupyter.widget-view+json": {
              "model_id": "2418ff64f4d64e31b01baf9fb29fbcb9",
              "version_major": 2,
              "version_minor": 0
            },
            "text/plain": [
              "Generating train split: 0 examples [00:00, ? examples/s]"
            ]
          },
          "metadata": {},
          "output_type": "display_data"
        }
      ],
      "source": [
        "# Load the amishshah HF song lyricsdataset and save a random sample of 25% of the data.\n",
        "sampled_songs = load_dataset(\"amishshah/song_lyrics\", split=\"train\").train_test_split(test_size=0.25, seed=30)['test']\n",
        "df = pd.DataFrame(sampled_songs)\n",
        "\n",
        "# Save to CSV\n",
        "df.to_csv('song_lyrics_sample.csv', index=False)"
      ]
    },
    {
      "cell_type": "code",
      "execution_count": null,
      "metadata": {
        "colab": {
          "base_uri": "https://localhost:8080/"
        },
        "id": "thjMkXxM9d80",
        "outputId": "19c60a4b-5f9e-4112-b825-82b2e16971c5"
      },
      "outputs": [
        {
          "name": "stderr",
          "output_type": "stream",
          "text": [
            "/usr/local/lib/python3.10/dist-packages/ipykernel/ipkernel.py:283: DeprecationWarning: `should_run_async` will not call `transform_cell` automatically in the future. Please pass the result to `transformed_cell` argument and any exception that happen during thetransform in `preprocessing_exc_tuple` in IPython 7.17 and above.\n",
            "  and should_run_async(code)\n"
          ]
        },
        {
          "name": "stdout",
          "output_type": "stream",
          "text": [
            "Number of Songs in Each Genre:\n",
            "tag\n",
            "pop        348547\n",
            "rap        241143\n",
            "rock       158148\n",
            "rb          38608\n",
            "misc        35398\n",
            "country     21706\n",
            "Name: count, dtype: int64\n"
          ]
        }
      ],
      "source": [
        "df = pd.read_csv('song_lyrics_sample.csv')\n",
        "\n",
        "#Count the number of songs per genre\n",
        "genre_counts = df['tag'].value_counts()\n",
        "print(\"Number of Songs in Each Genre:\")\n",
        "print(genre_counts)"
      ]
    },
    {
      "cell_type": "code",
      "execution_count": null,
      "metadata": {
        "colab": {
          "base_uri": "https://localhost:8080/"
        },
        "id": "VyL87fhT6ni6",
        "outputId": "faf5d21e-867d-4806-86c2-cd556207687a"
      },
      "outputs": [
        {
          "name": "stderr",
          "output_type": "stream",
          "text": [
            "/usr/local/lib/python3.10/dist-packages/ipykernel/ipkernel.py:283: DeprecationWarning: `should_run_async` will not call `transform_cell` automatically in the future. Please pass the result to `transformed_cell` argument and any exception that happen during thetransform in `preprocessing_exc_tuple` in IPython 7.17 and above.\n",
            "  and should_run_async(code)\n"
          ]
        }
      ],
      "source": [
        "#Create country_df by randomly sampling 20,000 country songs\n",
        "country_df = df[df['tag'] == 'country'].sample(n=20000, random_state=42)\n",
        "\n",
        "#Create non_country_df by randomly sampling 4,000 songs from pop, rap, rock, r&b, and misc\n",
        "genres_to_sample = ['pop', 'rap', 'rock', 'rb', 'misc']\n",
        "non_country_samples = [df[df['tag'] == genre].sample(n=4000, random_state=42) for genre in genres_to_sample]\n",
        "non_country_df = pd.concat(non_country_samples, ignore_index=True)"
      ]
    },
    {
      "cell_type": "markdown",
      "metadata": {
        "id": "0V8mgxy3JWYp"
      },
      "source": [
        "####Cleaning lyrics"
      ]
    },
    {
      "cell_type": "code",
      "execution_count": null,
      "metadata": {
        "colab": {
          "base_uri": "https://localhost:8080/"
        },
        "id": "orK5Zc1GnUDM",
        "outputId": "5a0093f3-95f7-4f79-ffb5-052beeb93bb1"
      },
      "outputs": [
        {
          "name": "stderr",
          "output_type": "stream",
          "text": [
            "/usr/local/lib/python3.10/dist-packages/ipykernel/ipkernel.py:283: DeprecationWarning: `should_run_async` will not call `transform_cell` automatically in the future. Please pass the result to `transformed_cell` argument and any exception that happen during thetransform in `preprocessing_exc_tuple` in IPython 7.17 and above.\n",
            "  and should_run_async(code)\n"
          ]
        }
      ],
      "source": [
        "def clean_lyrics(lyrics):\n",
        "    if pd.isna(lyrics):  # Handle NaN values\n",
        "        return \"\"\n",
        "\n",
        "    # Initialize tools\n",
        "    stop_words = set(stopwords.words('english'))\n",
        "    lemmatizer = WordNetLemmatizer()\n",
        "\n",
        "    # Remove common song annotations\n",
        "    lyrics = re.sub(r'\\[.*?\\]', '', lyrics)  # Remove [Verse], [Chorus], etc.\n",
        "    lyrics = re.sub(r'\\(.*?\\)', '', lyrics)  # Remove (x2), (repeat), etc.\n",
        "\n",
        "    # Remove specific filler words common in lyrics\n",
        "    filler_words = {'yeah', 'oh', 'hey', 'ah', 'la', 'na', 'da', 'ooh', 'whoa'}\n",
        "    stop_words.update(filler_words)\n",
        "\n",
        "    # Preserve contractions that are meaningful in songs\n",
        "    contractions_to_keep = {\"ain't\": \"aint\", \"won't\": \"wont\", \"can't\": \"cant\",\n",
        "                           \"don't\": \"dont\", \"i'm\": \"im\", \"i'll\": \"ill\"}\n",
        "\n",
        "    for contraction, replacement in contractions_to_keep.items():\n",
        "        lyrics = lyrics.lower().replace(contraction, replacement)\n",
        "\n",
        "    # Remove other special characters but preserve apostrophes initially\n",
        "    lyrics = re.sub(r'[^a-zA-Z\\'\\s]', '', lyrics)\n",
        "\n",
        "    # Split into words and process\n",
        "    words = []\n",
        "    for word in word_tokenize(lyrics):\n",
        "        # Skip if it's a stop word or filler\n",
        "        if word.lower() in stop_words:\n",
        "            continue\n",
        "\n",
        "        # Handle repeated letters (e.g., \"loooove\" -> \"love\")\n",
        "        word = re.sub(r'(.)\\1{2,}', r'\\1', word)\n",
        "\n",
        "        # Lemmatize only if not a preserved contraction\n",
        "        if word not in contractions_to_keep.values():\n",
        "            word = lemmatizer.lemmatize(word)\n",
        "\n",
        "        words.append(word.lower())\n",
        "\n",
        "    return ' '.join(words)\n",
        "\n",
        "country_df['lyrics'] = country_df['lyrics'].apply(clean_lyrics)\n",
        "non_country_df['lyrics'] = non_country_df['lyrics'].apply(clean_lyrics)"
      ]
    },
    {
      "cell_type": "code",
      "execution_count": null,
      "metadata": {
        "colab": {
          "background_save": true
        },
        "id": "WP87KZCtq8zr",
        "outputId": "46cf751c-5fce-43f5-dd52-a0053bfedc97"
      },
      "outputs": [
        {
          "name": "stdout",
          "output_type": "stream",
          "text": [
            "Full lyrics for 3 random Country Songs:\n",
            "\n",
            "Country Song 1:\n",
            "seems need better word fill gap fact say 've learned absolutely damn near every mother ive known miscarried lost baby time time seems need better word seems someone need say simple open obvious plain cause shame secret secret shame absolutely damn near every mother 've known miscarried lost baby held blame seems someone need say 's word dropped floor word 's something wrong seems body know 's right ancient meditation chemistry life thousand generation casting blessing disguise absolutely damn near every mother 've known lost baby felt carried light seems body know 's right 's word dropped floor 's word 's something wrong seems weve defied odds cause lie among living fly among god share themothers heartbeat pas mother 's blood absolutely every single time baby born chose know holiest form seems 've defied odds 's word dropped floor 's word something wrong seems need better word\n",
            "----------------------------------------\n",
            "\n",
            "Country Song 2:\n",
            "im little crazy little head told take one took two instead 's preacher corner yellin ' got pocket full chitlins collard green dog barkin ' got nose trail say ill wind dead ill end jail took left alley 's needle ground broken glass everywhere trash gone sour think see woman really cant tell prob'ly another man disguised well mister quarter dollar spare say ill wind dead ill end jail well swear mom swear dad n't nothin ' took n't nothin ' bad im cash im stuck downtown aint nothin ' like feelin ' comin ' said im sorry said im done im gon go back college im gon quit drug well come get even go church started readin ' bible swear every verse get home im gon steal something sell say ill wind dead ill end jail well swear mom swear dad n't nothin ' took n't nothin ' bad im cash im stuck downtown aint nothin ' like feelin ' comin ' swear mom swear dad n't nothin ' took n't nothin ' bad im cash im stuck downtown aint nothin ' like feelin ' comin '\n",
            "----------------------------------------\n",
            "\n",
            "Country Song 3:\n",
            "'s almost 're calling drunk say held really felt 're sorry wrong go buzz gone dont need feel better sleeping cause im mess still bleeding care love n't mean nothing 're tell girl might well kissing goodbye n't matter 's true lie im still lonely tonight tonight dont wan sleep dont wan dream let believe really need say want dont mean say miss dont feel care love n't mean nothing 're tell girl might well kissing goodbye n't matter 's true lie im still lonely tonight tonight care love n't mean nothing 're tell girl might well kissing goodbye n't matter 's true lie im still lonely tonight tonight still lonely tonight tonight x\n",
            "----------------------------------------\n",
            "\n",
            "Full lyrics for 3 random Non-Country Songs:\n",
            "\n",
            "Non-Country Song 1:\n",
            "yo let wild child revile see spit upon grave freestyle meanwhile sword coming foot roundhouse mouth im adding deceased pile im drinking sake hottie eatin yaki dont bothering im trying party time make crew say sorry even lady aint holding back anybody wishing jin worn make kimono fought id win im hardly even trying stopping see blade got contemplating every move like pawn king ill break watch dance face th ground like take bow show aint 'til get take crown sell asian town food lay around gamble money 'till im chilling lady tokyo slicing homies bro dont want owe dough sword like drug youll overdose get edo era break tie sever hold better watch back samurai samurai slaying way like tokugawa following path sun flower hold better watch back samurai samurai samurai im used making wrong choice tend get betrayed somehow could n't avoid 's poison 're really enjoyment wait sway blade like coined feel like emotion toyed one im riding could n't annoying joined honestly 's kind disappointing im rarely buoyant kill 'em enjoy dont left voice im done im leaving nothing left rejoice choice unless already destroyed joyless got kind mind poised 've got wit ill deploy im getting pretty sick hearing mouth making noise twist narrative prepare get exploited 'cause ill destroy 'em anyone want join get edo era break tie sever hold better watch back samurai samurai slaying way like tokugawa following path sun flower hold better watch back samurai samurai samurai\n",
            "----------------------------------------\n",
            "\n",
            "Non-Country Song 2:\n",
            "know bell cant unring new dawn every time blink best exit get darkest day accept thing face 's shame world apart dont try hold back tonight sometimes choice n't sometimes face truth trying become someone tonight im sick backing know move leave crazy town dont think way used say 've never tool dont resist 've got nothing hide weve lost 's always something find im sorry thing done probably run sky changing head time pretend know care everything admit trying become someone tonight im sick backing know move leave crazy town dont think way used say 've never tool say 've never tool\n",
            "----------------------------------------\n",
            "\n",
            "Non-Country Song 3:\n",
            "uh see peace ease see people think friend funeral shedding tear beautiful lavender sent meet demon meet jesus family snivel river though im reason displeasure missed kissed lie inside casket see instagram getting filled rip message aint sincere still exist memory decease anybody 's death wish upon granted hear sniggerings go final exit uh\n",
            "----------------------------------------\n",
            "\n"
          ]
        },
        {
          "name": "stderr",
          "output_type": "stream",
          "text": [
            "/usr/local/lib/python3.10/dist-packages/ipykernel/ipkernel.py:283: DeprecationWarning: `should_run_async` will not call `transform_cell` automatically in the future. Please pass the result to `transformed_cell` argument and any exception that happen during thetransform in `preprocessing_exc_tuple` in IPython 7.17 and above.\n",
            "  and should_run_async(code)\n"
          ]
        }
      ],
      "source": [
        "#Preview three songs from country and non country data\n",
        "for df, genre_name in [(country_df, \"Country\"), (non_country_df, \"Non-Country\")]:\n",
        "    print(f\"Full lyrics for 3 random {genre_name} Songs:\\n\")\n",
        "    for i in range(3):\n",
        "        lyrics = df.sample(1)['lyrics'].values[0]\n",
        "        print(f\"{genre_name} Song {i+1}:\\n{lyrics}\\n{'-'*40}\\n\")"
      ]
    },
    {
      "cell_type": "markdown",
      "metadata": {
        "id": "PjZFYCFrtzje"
      },
      "source": [
        "###Method 1: Topic Modeling\n"
      ]
    },
    {
      "cell_type": "markdown",
      "metadata": {
        "id": "EQerO-dpSpJQ"
      },
      "source": [
        "#### Topic Modeling Main Method\n"
      ]
    },
    {
      "cell_type": "code",
      "execution_count": null,
      "metadata": {
        "colab": {
          "background_save": true,
          "base_uri": "https://localhost:8080/"
        },
        "id": "6OO8aqpiFmCW",
        "outputId": "afc2bc70-53aa-42af-a942-190d07ceb38e"
      },
      "outputs": [
        {
          "name": "stderr",
          "output_type": "stream",
          "text": [
            "/usr/local/lib/python3.10/dist-packages/ipykernel/ipkernel.py:283: DeprecationWarning: `should_run_async` will not call `transform_cell` automatically in the future. Please pass the result to `transformed_cell` argument and any exception that happen during thetransform in `preprocessing_exc_tuple` in IPython 7.17 and above.\n",
            "  and should_run_async(code)\n"
          ]
        },
        {
          "name": "stdout",
          "output_type": "stream",
          "text": [
            "Coherence Score: 0.390\n",
            "\n",
            "Topic 1 (Distribution: 0.164)\n",
            "  like            0.0980\n",
            "  dont            0.0750\n",
            "  baby            0.0450\n",
            "  little          0.0385\n",
            "  good            0.0360\n",
            "  aint            0.0338\n",
            "  girl            0.0330\n",
            "  want            0.0319\n",
            "  right           0.0304\n",
            "  know            0.0282\n",
            "Topic 2 (Distribution: 0.041)\n",
            "  light           0.0979\n",
            "  night           0.0922\n",
            "  shine           0.0350\n",
            "  coming          0.0332\n",
            "  star            0.0329\n",
            "  christmas       0.0248\n",
            "  burn            0.0221\n",
            "  bright          0.0169\n",
            "  waiting         0.0162\n",
            "  bell            0.0144\n",
            "Topic 3 (Distribution: 0.050)\n",
            "  long            0.1166\n",
            "  gone            0.0863\n",
            "  song            0.0745\n",
            "  sing            0.0429\n",
            "  wrong           0.0396\n",
            "  wish            0.0351\n",
            "  play            0.0316\n",
            "  miss            0.0294\n",
            "  youre           0.0289\n",
            "  lonely          0.0274\n",
            "Topic 4 (Distribution: 0.066)\n",
            "  lord            0.0454\n",
            "  soul            0.0302\n",
            "  heaven          0.0250\n",
            "  river           0.0228\n",
            "  water           0.0216\n",
            "  hand            0.0202\n",
            "  train           0.0186\n",
            "  moon            0.0171\n",
            "  child           0.0162\n",
            "  jesus           0.0158\n",
            "Topic 5 (Distribution: 0.030)\n",
            "  rain            0.0675\n",
            "  wind            0.0591\n",
            "  cold            0.0555\n",
            "  wild            0.0443\n",
            "  deep            0.0394\n",
            "  ground          0.0346\n",
            "  young           0.0292\n",
            "  blow            0.0270\n",
            "  blood           0.0260\n",
            "  stone           0.0240\n",
            "Topic 6 (Distribution: 0.063)\n",
            "  home            0.0781\n",
            "  town            0.0471\n",
            "  road            0.0431\n",
            "  come            0.0399\n",
            "  mama            0.0231\n",
            "  roll            0.0217\n",
            "  daddy           0.0202\n",
            "  rock            0.0180\n",
            "  truck           0.0140\n",
            "  line            0.0139\n",
            "Topic 7 (Distribution: 0.053)\n",
            "  aint            0.0496\n",
            "  drink           0.0294\n",
            "  high            0.0262\n",
            "  dance           0.0242\n",
            "  night           0.0228\n",
            "  round           0.0208\n",
            "  nothin          0.0207\n",
            "  whiskey         0.0205\n",
            "  goin            0.0194\n",
            "  beer            0.0178\n",
            "Topic 8 (Distribution: 0.043)\n",
            "  came            0.0396\n",
            "  took            0.0295\n",
            "  bring           0.0264\n",
            "  seen            0.0217\n",
            "  gave            0.0180\n",
            "  lady            0.0173\n",
            "  called          0.0165\n",
            "  today           0.0157\n",
            "  rose            0.0155\n",
            "  fell            0.0129\n",
            "Topic 9 (Distribution: 0.049)\n",
            "  blue            0.0744\n",
            "  life            0.0304\n",
            "  ride            0.0283\n",
            "  black           0.0225\n",
            "  summer          0.0208\n",
            "  white           0.0198\n",
            "  gold            0.0174\n",
            "  thank           0.0137\n",
            "  wife            0.0125\n",
            "  green           0.0122\n",
            "Topic 10 (Distribution: 0.020)\n",
            "  country         0.1009\n",
            "  sweet           0.0682\n",
            "  mountain        0.0501\n",
            "  cowboy          0.0419\n",
            "  city            0.0363\n",
            "  hill            0.0323\n",
            "  fuck            0.0239\n",
            "  west            0.0229\n",
            "  horse           0.0216\n",
            "  climb           0.0163\n",
            "Topic 11 (Distribution: 0.332)\n",
            "  love            0.0592\n",
            "  know            0.0381\n",
            "  time            0.0364\n",
            "  heart           0.0253\n",
            "  away            0.0163\n",
            "  dont            0.0160\n",
            "  come            0.0155\n",
            "  life            0.0143\n",
            "  tell            0.0141\n",
            "  thing           0.0140\n",
            "Topic 12 (Distribution: 0.089)\n",
            "  said            0.0563\n",
            "  going           0.0273\n",
            "  better          0.0254\n",
            "  friend          0.0237\n",
            "  hell            0.0159\n",
            "  head            0.0142\n",
            "  people          0.0137\n",
            "  money           0.0123\n",
            "  getting         0.0119\n",
            "  told            0.0117\n",
            "Analysis complete. Visualization saved.\n"
          ]
        }
      ],
      "source": [
        "# Set logging level for gensim to suppress unnecessary output\n",
        "logging.getLogger('gensim').setLevel(logging.ERROR)\n",
        "\n",
        "# Define a set of stopwords specific to the domain\n",
        "STOPWORDS = set(gensim.parsing.preprocessing.STOPWORDS) | {'verse', 'chorus', 'repeat', 'bridge'}\n",
        "\n",
        "def analyze_lyrics(dataset, num_topics=12, output_file='./Lyrics_LDA_k_{num_topics}.html'):\n",
        "    # Preprocess the dataset: tokenize, filter stopwords, and exclude very short/long tokens\n",
        "    processed_docs = [\n",
        "        [token for token in gensim.utils.simple_preprocess(text) if token not in STOPWORDS and 3 < len(token) < 20]\n",
        "        for text in dataset\n",
        "    ]\n",
        "\n",
        "    # Create a dictionary mapping from words to unique IDs\n",
        "    dictionary = Dictionary(processed_docs)\n",
        "    # Filter out extremely rare and overly common tokens to improve model performance\n",
        "    dictionary.filter_extremes(no_below=0.2, no_above=0.8)\n",
        "    # Convert the tokenized documents into a bag-of-words format\n",
        "    corpus = [dictionary.doc2bow(doc) for doc in processed_docs]\n",
        "\n",
        "    # Ensure that the corpus is not empty after filtering\n",
        "    if not corpus:\n",
        "        raise ValueError(\"Corpus is empty after filtering.\")\n",
        "\n",
        "    # Train the LDA model with specified hyperparameters\n",
        "    lda_model = LdaModel(\n",
        "        corpus=corpus,\n",
        "        id2word=dictionary,\n",
        "        num_topics=num_topics,\n",
        "        alpha='auto',  # Automatically adjust topic distribution priors\n",
        "        chunksize=1000,  # Number of documents to process at a time\n",
        "        passes=15,  # Number of passes through the corpus\n",
        "        iterations=300,  # Maximum iterations per pass\n",
        "        eta=0.005,  # Topic-word distribution prior\n",
        "        random_state=42  # Ensure reproducibility\n",
        "    )\n",
        "\n",
        "    # Calculate the coherence score to evaluate topic quality\n",
        "    coherence_score = CoherenceModel(\n",
        "        model=lda_model,\n",
        "        texts=processed_docs,\n",
        "        dictionary=dictionary,\n",
        "        coherence='c_v'  # Measure based on a sliding window of words\n",
        "    ).get_coherence()\n",
        "\n",
        "    # Calculate the distribution of topics across the corpus\n",
        "    topic_distributions = np.zeros(num_topics)\n",
        "    for doc in corpus:\n",
        "        for topic_id, prob in lda_model.get_document_topics(doc, minimum_probability=0.0):\n",
        "            topic_distributions[topic_id] += prob\n",
        "    # Normalize distributions by the number of documents\n",
        "    topic_distributions /= len(corpus)\n",
        "\n",
        "    # Prepare a visualization of the LDA topics and save as an HTML file\n",
        "    vis_data = gensimvis.prepare(lda_model, corpus, dictionary)\n",
        "    pyLDAvis.save_html(vis_data, output_file.format(num_topics=num_topics))\n",
        "\n",
        "    # Return analysis results including topics, coherence, and distributions\n",
        "    return {\n",
        "        'coherence_score': coherence_score,\n",
        "        'topics': {idx: [(w, p) for w, p in topic if p > 0.01] for idx, topic in lda_model.show_topics(num_topics=-1, num_words=10, formatted=False)},\n",
        "        'distributions': topic_distributions,\n",
        "        'model': lda_model,\n",
        "        'vis_data': vis_data\n",
        "    }\n",
        "\n",
        "def display_results(results):\n",
        "    # Print the coherence score for the model\n",
        "    print(f\"Coherence Score: {results['coherence_score']:.3f}\\n\")\n",
        "    # Display each topic with its top words and their probabilities\n",
        "    for topic_id, words in results['topics'].items():\n",
        "        print(f\"Topic {topic_id + 1} (Distribution: {results['distributions'][topic_id]:.3f})\")\n",
        "        for word, prob in words:\n",
        "            print(f\"  {word:<15} {prob:.4f}\")\n",
        "\n",
        "if __name__ == \"__main__\":\n",
        "    # Perform topic modeling on the dataset and display results\n",
        "    results = analyze_lyrics(country_df['lyrics'].tolist())\n",
        "    display_results(results)\n",
        "    print(\"Analysis complete. Visualization saved.\")"
      ]
    },
    {
      "cell_type": "markdown",
      "metadata": {
        "id": "VRNA5ix7sNJd"
      },
      "source": [
        "###Method 2: Log Odds"
      ]
    },
    {
      "cell_type": "code",
      "execution_count": null,
      "metadata": {
        "colab": {
          "background_save": true,
          "base_uri": "https://localhost:8080/"
        },
        "id": "_nJ38tBerc31",
        "outputId": "14f390c7-61df-4340-c921-7c28a9ae2a1d"
      },
      "outputs": [
        {
          "name": "stderr",
          "output_type": "stream",
          "text": [
            "/usr/local/lib/python3.10/dist-packages/ipykernel/ipkernel.py:283: DeprecationWarning: `should_run_async` will not call `transform_cell` automatically in the future. Please pass the result to `transformed_cell` argument and any exception that happen during thetransform in `preprocessing_exc_tuple` in IPython 7.17 and above.\n",
            "  and should_run_async(code)\n"
          ]
        },
        {
          "name": "stdout",
          "output_type": "stream",
          "text": [
            "Top 25 words most distinctive to country songs:\n",
            "cowboy: 3.1391\n",
            "tennessee: 3.0832\n",
            "whiskey: 2.8287\n",
            "ol: 2.7359\n",
            "lonesome: 2.7187\n",
            "truck: 2.4445\n",
            "sittin: 2.2997\n",
            "beer: 2.1995\n",
            "heartache: 2.1984\n",
            "guitar: 1.9195\n",
            "livin: 1.9141\n",
            "mornin: 1.8491\n",
            "nothin: 1.7679\n",
            "comin: 1.7655\n",
            "porch: 1.7555\n",
            "headed: 1.7079\n",
            "gettin: 1.6807\n",
            "daddy: 1.6199\n",
            "friday: 1.5698\n",
            "highway: 1.5507\n",
            "waitin: 1.5402\n",
            "mama: 1.5130\n",
            "doin: 1.4875\n",
            "boot: 1.4629\n",
            "somethin: 1.3986\n",
            "\n",
            "Top 25 words most distinctive to non-country songs:\n",
            "gentleman: -2.3213\n",
            "system: -2.3435\n",
            "returned: -2.3676\n",
            "mr: -2.3716\n",
            "thou: -2.4355\n",
            "force: -2.4790\n",
            "account: -2.4792\n",
            "form: -2.4959\n",
            "enter: -2.5878\n",
            "possible: -2.7065\n",
            "also: -2.7112\n",
            "several: -2.7212\n",
            "indeed: -2.7677\n",
            "experience: -2.8174\n",
            "large: -2.8202\n",
            "general: -2.8384\n",
            "public: -2.9535\n",
            "however: -2.9593\n",
            "knowledge: -3.1140\n",
            "effect: -3.1247\n",
            "interest: -3.1361\n",
            "manner: -3.4532\n",
            "subject: -3.4803\n",
            "thus: -3.7734\n",
            "therefore: -4.6841\n"
          ]
        },
        {
          "data": {
            "image/png": "[encoded data removed]",
            "text/plain": [
              "<Figure size 1000x600 with 1 Axes>"
            ]
          },
          "metadata": {},
          "output_type": "display_data"
        },
        {
          "data": {
            "image/png": "[encoded data removed]",
            "text/plain": [
              "<Figure size 1000x600 with 1 Axes>"
            ]
          },
          "metadata": {},
          "output_type": "display_data"
        },
        {
          "name": "stdout",
          "output_type": "stream",
          "text": [
            "Log-odds analysis saved to 'log_odds_results.csv'.\n"
          ]
        }
      ],
      "source": [
        "\n",
        "# Combine datasets and vectorize\n",
        "dataset_combined = country_df['lyrics'].tolist() + non_country_df['lyrics'].tolist()\n",
        "min_df = max(2, len(dataset_combined) // 100)\n",
        "cv = CountVectorizer(min_df=min_df)\n",
        "dtm_combined = cv.fit_transform(dataset_combined)\n",
        "\n",
        "# Calculate word counts\n",
        "feature_names = cv.get_feature_names_out()\n",
        "country_counts = dtm_combined[:len(country_df), :].sum(axis=0).A1 + 1\n",
        "non_country_counts = dtm_combined[len(country_df):, :].sum(axis=0).A1 + 1\n",
        "\n",
        "# Calculate log-odds ratios\n",
        "log_odds_ratios = np.log((country_counts / country_counts.sum()) / (non_country_counts / non_country_counts.sum()))\n",
        "log_odds_sorted = sorted(zip(feature_names, log_odds_ratios), key=lambda x: x[1], reverse=True)\n",
        "\n",
        "# Display results\n",
        "print(\"Top 25 words most distinctive to country songs:\")\n",
        "for word, log_odds in log_odds_sorted[:25]:\n",
        "    print(f\"{word}: {log_odds:.4f}\")\n",
        "\n",
        "print(\"\\nTop 25 words most distinctive to non-country songs:\")\n",
        "for word, log_odds in log_odds_sorted[-25:]:\n",
        "    print(f\"{word}: {log_odds:.4f}\")\n",
        "\n",
        "# Visualization\n",
        "for label, words in zip([\"Country\", \"Non-Country\"], [log_odds_sorted[:25], log_odds_sorted[-25:]]):\n",
        "    words, log_odds = zip(*words)\n",
        "    plt.figure(figsize=(10, 6))\n",
        "    plt.barh(words, log_odds, color='blue' if label == \"Country\" else 'red')\n",
        "    plt.xlabel(\"Log Odds Ratio\")\n",
        "    plt.ylabel(\"Words\")\n",
        "    plt.title(f\"Top 25 Words Most Distinctive to {label} Songs\")\n",
        "    plt.gca().invert_yaxis()\n",
        "    plt.show()\n",
        "\n",
        "# Save results\n",
        "pd.DataFrame(log_odds_sorted, columns=[\"Word\", \"Log Odds Ratio\"]).to_csv(\"log_odds_results.csv\", index=False)\n",
        "print(\"Log-odds analysis saved to 'log_odds_results.csv'.\")"
      ]
    },
    {
      "cell_type": "markdown",
      "metadata": {
        "id": "vKrej0EkhEj2"
      },
      "source": [
        "### Method 3: Vocabulary Richness"
      ]
    },
    {
      "cell_type": "code",
      "execution_count": null,
      "metadata": {
        "colab": {
          "background_save": true
        },
        "id": "xDUlDQhihDn_",
        "outputId": "68e5ce76-d69e-43a1-a037-e7c557f81d60"
      },
      "outputs": [
        {
          "name": "stderr",
          "output_type": "stream",
          "text": [
            "/usr/local/lib/python3.10/dist-packages/ipykernel/ipkernel.py:283: DeprecationWarning: `should_run_async` will not call `transform_cell` automatically in the future. Please pass the result to `transformed_cell` argument and any exception that happen during thetransform in `preprocessing_exc_tuple` in IPython 7.17 and above.\n",
            "  and should_run_async(code)\n"
          ]
        },
        {
          "name": "stdout",
          "output_type": "stream",
          "text": [
            "Mean Vocabulary Richness Metrics by Genre:\n",
            "              ttr  hapax_legomena  avg_word_length\n",
            "pop      0.551766        0.375204         4.737637\n",
            "rap      0.590445        0.435096         4.630106\n",
            "rb       0.494333        0.314448         4.556044\n",
            "rock     0.602635        0.429460         4.893277\n",
            "Country  0.551508        0.371937         4.621509\n"
          ]
        },
        {
          "name": "stderr",
          "output_type": "stream",
          "text": [
            "<ipython-input-10-2e63f18bbfca>:47: FutureWarning: \n",
            "\n",
            "Passing `palette` without assigning `hue` is deprecated and will be removed in v0.14.0. Assign the `x` variable to `hue` and set `legend=False` for the same effect.\n",
            "\n",
            "  ax = sns.barplot(\n"
          ]
        },
        {
          "data": {
            "image/png": "[encoded data removed]",
            "text/plain": [
              "<Figure size 1200x700 with 1 Axes>"
            ]
          },
          "metadata": {},
          "output_type": "display_data"
        },
        {
          "name": "stderr",
          "output_type": "stream",
          "text": [
            "<ipython-input-10-2e63f18bbfca>:47: FutureWarning: \n",
            "\n",
            "Passing `palette` without assigning `hue` is deprecated and will be removed in v0.14.0. Assign the `x` variable to `hue` and set `legend=False` for the same effect.\n",
            "\n",
            "  ax = sns.barplot(\n"
          ]
        },
        {
          "data": {
            "image/png": "[encoded data removed]",
            "text/plain": [
              "<Figure size 1200x700 with 1 Axes>"
            ]
          },
          "metadata": {},
          "output_type": "display_data"
        },
        {
          "name": "stderr",
          "output_type": "stream",
          "text": [
            "<ipython-input-10-2e63f18bbfca>:47: FutureWarning: \n",
            "\n",
            "Passing `palette` without assigning `hue` is deprecated and will be removed in v0.14.0. Assign the `x` variable to `hue` and set `legend=False` for the same effect.\n",
            "\n",
            "  ax = sns.barplot(\n"
          ]
        },
        {
          "data": {
            "image/png": "[encoded data removed]",
            "text/plain": [
              "<Figure size 1200x700 with 1 Axes>"
            ]
          },
          "metadata": {},
          "output_type": "display_data"
        }
      ],
      "source": [
        "import seaborn as sns\n",
        "\n",
        "# Vocabulary Richness Measures\n",
        "def calc_ttr(lyrics):\n",
        "    \"\"\"Calculate Type-Token Ratio (TTR).\"\"\"\n",
        "    words = lyrics.split() if isinstance(lyrics, str) else []\n",
        "    return len(set(words)) / len(words) if words else 0\n",
        "\n",
        "def calc_hapax_legomena(lyrics):\n",
        "    \"\"\"Calculate Hapax Legomena Ratio.\"\"\"\n",
        "    words = lyrics.split() if isinstance(lyrics, str) else []\n",
        "    word_counts = pd.Series(words).value_counts()\n",
        "    return sum(word_counts == 1) / len(words) if words else 0\n",
        "\n",
        "def calc_avg_word_length(lyrics):\n",
        "    \"\"\"Calculate Average Word Length.\"\"\"\n",
        "    words = lyrics.split() if isinstance(lyrics, str) else []\n",
        "    return sum(len(word) for word in words) / len(words) if words else 0\n",
        "\n",
        "# Apply Vocabulary Richness Metrics to Each Genre\n",
        "def apply_vocabulary_metrics(df):\n",
        "    for metric, func in zip(['ttr', 'hapax_legomena', 'avg_word_length'], [calc_ttr, calc_hapax_legomena, calc_avg_word_length]):\n",
        "        df[metric] = df['lyrics'].apply(func)\n",
        "    return df\n",
        "\n",
        "# Apply metrics for country and non-country genres grouped by tag\n",
        "country_df = apply_vocabulary_metrics(country_df)\n",
        "non_country_df = apply_vocabulary_metrics(non_country_df)\n",
        "\n",
        "# Group non-country songs by genre tag and calculate mean metrics\n",
        "genre_means = non_country_df.groupby('tag')[['ttr', 'hapax_legomena', 'avg_word_length']].mean()\n",
        "\n",
        "# Remove 'misc' genre from analysis\n",
        "genre_means = genre_means.drop(index='misc', errors='ignore')\n",
        "\n",
        "# Add country metrics to the comparison\n",
        "country_means = country_df[['ttr', 'hapax_legomena', 'avg_word_length']].mean()\n",
        "mean_values_df = pd.concat([genre_means, pd.DataFrame({'Country': country_means}).T])\n",
        "\n",
        "# Display Mean Values\n",
        "print(\"Mean Vocabulary Richness Metrics by Genre:\")\n",
        "print(mean_values_df)\n",
        "\n",
        "# Visualization Bar Charts\n",
        "for metric, metric_name in zip(['ttr', 'hapax_legomena', 'avg_word_length'], ['Type-Token Ratio (TTR)', 'Hapax Legomena Ratio', 'Average Word Length']):\n",
        "    plt.figure(figsize=(12, 7))\n",
        "    ax = sns.barplot(\n",
        "        x=mean_values_df.index,\n",
        "        y=mean_values_df[metric],\n",
        "        palette=[\"blue\" if genre == \"Country\" else \"gray\" for genre in mean_values_df.index]\n",
        "    )\n",
        "\n",
        "    # Adjust y-axis scale to focus on differences\n",
        "    min_value, max_value = mean_values_df[metric].min(), mean_values_df[metric].max()\n",
        "    plt.ylim(min_value - (max_value - min_value) * 0.1, max_value * 1.1)\n",
        "\n",
        "    plt.title(f'{metric_name} by Genre', fontsize=16, fontweight='bold')\n",
        "    plt.xlabel('Genres', fontsize=14)\n",
        "    plt.ylabel(metric_name, fontsize=14)\n",
        "    plt.xticks(rotation=45, fontsize=12)\n",
        "    plt.yticks(fontsize=12)\n",
        "\n",
        "    for p in ax.patches:\n",
        "        ax.annotate(\n",
        "            format(p.get_height(), \".2f\"),\n",
        "            (p.get_x() + p.get_width() / 2., p.get_height()),\n",
        "            ha='center', va='center', fontsize=10, color='black', xytext=(0, 5),\n",
        "            textcoords='offset points'\n",
        "        )\n",
        "\n",
        "    plt.tight_layout()\n",
        "    plt.grid(axis='y', linestyle='--', alpha=0.7)\n",
        "    plt.show()\n"
      ]
    },
    {
      "cell_type": "markdown",
      "metadata": {
        "id": "lt2P_WZp2ev2"
      },
      "source": [
        "### Method 4: Sentiment Analysis"
      ]
    },
    {
      "cell_type": "code",
      "execution_count": null,
      "metadata": {
        "id": "M2xbnaL32hlG"
      },
      "outputs": [],
      "source": [
        "from nrclex import NRCLex\n",
        "import pandas as pd\n",
        "import matplotlib.pyplot as plt\n",
        "from math import pi\n",
        "\n",
        "# Function to calculate NRC sentiment scores for a DataFrame\n",
        "def calculate_nrc_sentiment(df, text_column='lyrics'):\n",
        "    def get_emotion_scores(text):\n",
        "        analysis = NRCLex(text)\n",
        "        return analysis.raw_emotion_scores\n",
        "\n",
        "    sentiment_scores = df[text_column].apply(get_emotion_scores)\n",
        "    return pd.DataFrame(list(sentiment_scores))\n",
        "\n",
        "# Apply NRC sentiment analysis to country and non-country datasets\n",
        "country_sentiments = calculate_nrc_sentiment(country_df)\n",
        "non_country_sentiments = calculate_nrc_sentiment(non_country_df)\n",
        "\n",
        "# Visualization 1: Distribution of emotion scores in country songs\n",
        "plt.figure(figsize=(12, 8))\n",
        "country_sentiments.mean().plot(kind='bar', alpha=0.7, color='blue')\n",
        "plt.title('Average Emotion Scores for Country Songs')\n",
        "plt.xlabel('Emotion')\n",
        "plt.ylabel('Average Score')\n",
        "plt.xticks(rotation=45)\n",
        "plt.tight_layout()\n",
        "plt.show()\n",
        "\n",
        "# Visualization 2: Comparison of prominent emotions between country and each genre\n",
        "genres = non_country_df['tag'].unique()\n",
        "for genre in genres:\n",
        "    genre_df = non_country_df[non_country_df['tag'] == genre]\n",
        "    genre_sentiments = calculate_nrc_sentiment(genre_df)\n",
        "\n",
        "    comparison = pd.DataFrame({\n",
        "        'Country': country_sentiments.mean(),\n",
        "        genre.capitalize(): genre_sentiments.mean()\n",
        "    })\n",
        "\n",
        "    plt.figure(figsize=(12, 8))\n",
        "    comparison.plot(kind='bar', alpha=0.8)\n",
        "    plt.title(f'Comparison of Emotion Scores: Country vs {genre.capitalize()}')\n",
        "    plt.xlabel('Emotion')\n",
        "    plt.ylabel('Average Score')\n",
        "    plt.xticks(rotation=45)\n",
        "    plt.tight_layout()\n",
        "    plt.show()\n",
        "\n",
        "# Visualization 3: Radar Chart of Emotion Scores for Country vs. Non-Country\n",
        "categories = country_sentiments.columns\n",
        "num_vars = len(categories)\n",
        "angles = [n / float(num_vars) * 2 * pi for n in range(num_vars)]\n",
        "angles += angles[:1]\n",
        "\n",
        "plt.figure(figsize=(8, 8))\n",
        "ax = plt.subplot(111, polar=True)\n",
        "\n",
        "# Country data\n",
        "country_values = country_sentiments.mean().tolist()\n",
        "country_values += country_values[:1]\n",
        "ax.plot(angles, country_values, linewidth=2, linestyle='solid', label='Country', color='blue')\n",
        "ax.fill(angles, country_values, alpha=0.3, color='blue')\n",
        "\n",
        "# Non-country data\n",
        "non_country_values = non_country_sentiments.mean().tolist()\n",
        "non_country_values += non_country_values[:1]\n",
        "ax.plot(angles, non_country_values, linewidth=2, linestyle='dashed', label='Non-Country', color='red')\n",
        "ax.fill(angles, non_country_values, alpha=0.3, color='red')\n",
        "\n",
        "# Add labels and legend\n",
        "plt.xticks(angles[:-1], categories, fontsize=10)\n",
        "plt.title('Emotion Radar Chart: Country vs. Non-Country', size=15, y=1.1)\n",
        "plt.legend(loc='upper right', bbox_to_anchor=(1.3, 1))\n",
        "plt.tight_layout()\n",
        "plt.show()\n"
      ]
    }
  ],
  "metadata": {
    "accelerator": "GPU",
    "colab": {
      "collapsed_sections": [
        "LEiLk4lgSc6O"
      ],
      "gpuType": "T4",
      "provenance": [],
      "include_colab_link": true
    },
    "kernelspec": {
      "display_name": "Python 3",
      "name": "python3"
    },
    "language_info": {
      "name": "python"
    },
    "widgets": {
      "application/vnd.jupyter.widget-state+json": {
        "0358b66f7f364d88a1e5ac70e6f6531b": {
          "model_module": "@jupyter-widgets/controls",
          "model_module_version": "1.5.0",
          "model_name": "FloatProgressModel",
          "state": {
            "_dom_classes": [],
            "_model_module": "@jupyter-widgets/controls",
            "_model_module_version": "1.5.0",
            "_model_name": "FloatProgressModel",
            "_view_count": null,
            "_view_module": "@jupyter-widgets/controls",
            "_view_module_version": "1.5.0",
            "_view_name": "ProgressView",
            "bar_style": "success",
            "description": "",
            "description_tooltip": null,
            "layout": "IPY_MODEL_ec9c73061733467ca19638a349102ab0",
            "max": 5663406926,
            "min": 0,
            "orientation": "horizontal",
            "style": "IPY_MODEL_2aa0fc56696a4ef087513b4c236a156c",
            "value": 5663406926
          }
        },
        "05193570a02b428187883d62cf579343": {
          "model_module": "@jupyter-widgets/controls",
          "model_module_version": "1.5.0",
          "model_name": "HTMLModel",
          "state": {
            "_dom_classes": [],
            "_model_module": "@jupyter-widgets/controls",
            "_model_module_version": "1.5.0",
            "_model_name": "HTMLModel",
            "_view_count": null,
            "_view_module": "@jupyter-widgets/controls",
            "_view_module_version": "1.5.0",
            "_view_name": "HTMLView",
            "description": "",
            "description_tooltip": null,
            "layout": "IPY_MODEL_ac4472a1c2d945a893c74081e5d9e7a3",
            "placeholder": "​",
            "style": "IPY_MODEL_43d190c455b64906b0f107a0613c65df",
            "value": "Generating train split: "
          }
        },
        "11c1f0dfb3364ea7824d79f87488d515": {
          "model_module": "@jupyter-widgets/controls",
          "model_module_version": "1.5.0",
          "model_name": "FloatProgressModel",
          "state": {
            "_dom_classes": [],
            "_model_module": "@jupyter-widgets/controls",
            "_model_module_version": "1.5.0",
            "_model_name": "FloatProgressModel",
            "_view_count": null,
            "_view_module": "@jupyter-widgets/controls",
            "_view_module_version": "1.5.0",
            "_view_name": "ProgressView",
            "bar_style": "success",
            "description": "",
            "description_tooltip": null,
            "layout": "IPY_MODEL_210d50d5994249c2a3048ead922e9419",
            "max": 1,
            "min": 0,
            "orientation": "horizontal",
            "style": "IPY_MODEL_301ad7f83b8a4da9bff0ef01ebffbda1",
            "value": 1
          }
        },
        "134af9be68bd47f4bbbf43871abc6b01": {
          "model_module": "@jupyter-widgets/controls",
          "model_module_version": "1.5.0",
          "model_name": "DescriptionStyleModel",
          "state": {
            "_model_module": "@jupyter-widgets/controls",
            "_model_module_version": "1.5.0",
            "_model_name": "DescriptionStyleModel",
            "_view_count": null,
            "_view_module": "@jupyter-widgets/base",
            "_view_module_version": "1.2.0",
            "_view_name": "StyleView",
            "description_width": ""
          }
        },
        "210d50d5994249c2a3048ead922e9419": {
          "model_module": "@jupyter-widgets/base",
          "model_module_version": "1.2.0",
          "model_name": "LayoutModel",
          "state": {
            "_model_module": "@jupyter-widgets/base",
            "_model_module_version": "1.2.0",
            "_model_name": "LayoutModel",
            "_view_count": null,
            "_view_module": "@jupyter-widgets/base",
            "_view_module_version": "1.2.0",
            "_view_name": "LayoutView",
            "align_content": null,
            "align_items": null,
            "align_self": null,
            "border": null,
            "bottom": null,
            "display": null,
            "flex": null,
            "flex_flow": null,
            "grid_area": null,
            "grid_auto_columns": null,
            "grid_auto_flow": null,
            "grid_auto_rows": null,
            "grid_column": null,
            "grid_gap": null,
            "grid_row": null,
            "grid_template_areas": null,
            "grid_template_columns": null,
            "grid_template_rows": null,
            "height": null,
            "justify_content": null,
            "justify_items": null,
            "left": null,
            "margin": null,
            "max_height": null,
            "max_width": null,
            "min_height": null,
            "min_width": null,
            "object_fit": null,
            "object_position": null,
            "order": null,
            "overflow": null,
            "overflow_x": null,
            "overflow_y": null,
            "padding": null,
            "right": null,
            "top": null,
            "visibility": null,
            "width": "20px"
          }
        },
        "2418ff64f4d64e31b01baf9fb29fbcb9": {
          "model_module": "@jupyter-widgets/controls",
          "model_module_version": "1.5.0",
          "model_name": "HBoxModel",
          "state": {
            "_dom_classes": [],
            "_model_module": "@jupyter-widgets/controls",
            "_model_module_version": "1.5.0",
            "_model_name": "HBoxModel",
            "_view_count": null,
            "_view_module": "@jupyter-widgets/controls",
            "_view_module_version": "1.5.0",
            "_view_name": "HBoxView",
            "box_style": "",
            "children": [
              "IPY_MODEL_05193570a02b428187883d62cf579343",
              "IPY_MODEL_11c1f0dfb3364ea7824d79f87488d515",
              "IPY_MODEL_82bf2400fe444d0eb8f38ccda65db148"
            ],
            "layout": "IPY_MODEL_2d9d9a54d8cc48629dbafc984adace80"
          }
        },
        "24d75184020744cc8d582739311c2448": {
          "model_module": "@jupyter-widgets/base",
          "model_module_version": "1.2.0",
          "model_name": "LayoutModel",
          "state": {
            "_model_module": "@jupyter-widgets/base",
            "_model_module_version": "1.2.0",
            "_model_name": "LayoutModel",
            "_view_count": null,
            "_view_module": "@jupyter-widgets/base",
            "_view_module_version": "1.2.0",
            "_view_name": "LayoutView",
            "align_content": null,
            "align_items": null,
            "align_self": null,
            "border": null,
            "bottom": null,
            "display": null,
            "flex": null,
            "flex_flow": null,
            "grid_area": null,
            "grid_auto_columns": null,
            "grid_auto_flow": null,
            "grid_auto_rows": null,
            "grid_column": null,
            "grid_gap": null,
            "grid_row": null,
            "grid_template_areas": null,
            "grid_template_columns": null,
            "grid_template_rows": null,
            "height": null,
            "justify_content": null,
            "justify_items": null,
            "left": null,
            "margin": null,
            "max_height": null,
            "max_width": null,
            "min_height": null,
            "min_width": null,
            "object_fit": null,
            "object_position": null,
            "order": null,
            "overflow": null,
            "overflow_x": null,
            "overflow_y": null,
            "padding": null,
            "right": null,
            "top": null,
            "visibility": null,
            "width": null
          }
        },
        "2aa0fc56696a4ef087513b4c236a156c": {
          "model_module": "@jupyter-widgets/controls",
          "model_module_version": "1.5.0",
          "model_name": "ProgressStyleModel",
          "state": {
            "_model_module": "@jupyter-widgets/controls",
            "_model_module_version": "1.5.0",
            "_model_name": "ProgressStyleModel",
            "_view_count": null,
            "_view_module": "@jupyter-widgets/base",
            "_view_module_version": "1.2.0",
            "_view_name": "StyleView",
            "bar_color": null,
            "description_width": ""
          }
        },
        "2d9d9a54d8cc48629dbafc984adace80": {
          "model_module": "@jupyter-widgets/base",
          "model_module_version": "1.2.0",
          "model_name": "LayoutModel",
          "state": {
            "_model_module": "@jupyter-widgets/base",
            "_model_module_version": "1.2.0",
            "_model_name": "LayoutModel",
            "_view_count": null,
            "_view_module": "@jupyter-widgets/base",
            "_view_module_version": "1.2.0",
            "_view_name": "LayoutView",
            "align_content": null,
            "align_items": null,
            "align_self": null,
            "border": null,
            "bottom": null,
            "display": null,
            "flex": null,
            "flex_flow": null,
            "grid_area": null,
            "grid_auto_columns": null,
            "grid_auto_flow": null,
            "grid_auto_rows": null,
            "grid_column": null,
            "grid_gap": null,
            "grid_row": null,
            "grid_template_areas": null,
            "grid_template_columns": null,
            "grid_template_rows": null,
            "height": null,
            "justify_content": null,
            "justify_items": null,
            "left": null,
            "margin": null,
            "max_height": null,
            "max_width": null,
            "min_height": null,
            "min_width": null,
            "object_fit": null,
            "object_position": null,
            "order": null,
            "overflow": null,
            "overflow_x": null,
            "overflow_y": null,
            "padding": null,
            "right": null,
            "top": null,
            "visibility": null,
            "width": null
          }
        },
        "301ad7f83b8a4da9bff0ef01ebffbda1": {
          "model_module": "@jupyter-widgets/controls",
          "model_module_version": "1.5.0",
          "model_name": "ProgressStyleModel",
          "state": {
            "_model_module": "@jupyter-widgets/controls",
            "_model_module_version": "1.5.0",
            "_model_name": "ProgressStyleModel",
            "_view_count": null,
            "_view_module": "@jupyter-widgets/base",
            "_view_module_version": "1.2.0",
            "_view_name": "StyleView",
            "bar_color": null,
            "description_width": ""
          }
        },
        "3c1f6de3adbb4f7bbb92f499e865932c": {
          "model_module": "@jupyter-widgets/base",
          "model_module_version": "1.2.0",
          "model_name": "LayoutModel",
          "state": {
            "_model_module": "@jupyter-widgets/base",
            "_model_module_version": "1.2.0",
            "_model_name": "LayoutModel",
            "_view_count": null,
            "_view_module": "@jupyter-widgets/base",
            "_view_module_version": "1.2.0",
            "_view_name": "LayoutView",
            "align_content": null,
            "align_items": null,
            "align_self": null,
            "border": null,
            "bottom": null,
            "display": null,
            "flex": null,
            "flex_flow": null,
            "grid_area": null,
            "grid_auto_columns": null,
            "grid_auto_flow": null,
            "grid_auto_rows": null,
            "grid_column": null,
            "grid_gap": null,
            "grid_row": null,
            "grid_template_areas": null,
            "grid_template_columns": null,
            "grid_template_rows": null,
            "height": null,
            "justify_content": null,
            "justify_items": null,
            "left": null,
            "margin": null,
            "max_height": null,
            "max_width": null,
            "min_height": null,
            "min_width": null,
            "object_fit": null,
            "object_position": null,
            "order": null,
            "overflow": null,
            "overflow_x": null,
            "overflow_y": null,
            "padding": null,
            "right": null,
            "top": null,
            "visibility": null,
            "width": null
          }
        },
        "43d190c455b64906b0f107a0613c65df": {
          "model_module": "@jupyter-widgets/controls",
          "model_module_version": "1.5.0",
          "model_name": "DescriptionStyleModel",
          "state": {
            "_model_module": "@jupyter-widgets/controls",
            "_model_module_version": "1.5.0",
            "_model_name": "DescriptionStyleModel",
            "_view_count": null,
            "_view_module": "@jupyter-widgets/base",
            "_view_module_version": "1.2.0",
            "_view_name": "StyleView",
            "description_width": ""
          }
        },
        "45ff5fe9dd9d49b1a84e28da2f3d2c5b": {
          "model_module": "@jupyter-widgets/controls",
          "model_module_version": "1.5.0",
          "model_name": "HBoxModel",
          "state": {
            "_dom_classes": [],
            "_model_module": "@jupyter-widgets/controls",
            "_model_module_version": "1.5.0",
            "_model_name": "HBoxModel",
            "_view_count": null,
            "_view_module": "@jupyter-widgets/controls",
            "_view_module_version": "1.5.0",
            "_view_name": "HBoxView",
            "box_style": "",
            "children": [
              "IPY_MODEL_c08f5fa202e3483387a115ab0fb7dc5d",
              "IPY_MODEL_0358b66f7f364d88a1e5ac70e6f6531b",
              "IPY_MODEL_f5ce5749d50a4d0784b155c7c72dc7e8"
            ],
            "layout": "IPY_MODEL_3c1f6de3adbb4f7bbb92f499e865932c"
          }
        },
        "5038c00e59b14b7291795f20e89a6d89": {
          "model_module": "@jupyter-widgets/base",
          "model_module_version": "1.2.0",
          "model_name": "LayoutModel",
          "state": {
            "_model_module": "@jupyter-widgets/base",
            "_model_module_version": "1.2.0",
            "_model_name": "LayoutModel",
            "_view_count": null,
            "_view_module": "@jupyter-widgets/base",
            "_view_module_version": "1.2.0",
            "_view_name": "LayoutView",
            "align_content": null,
            "align_items": null,
            "align_self": null,
            "border": null,
            "bottom": null,
            "display": null,
            "flex": null,
            "flex_flow": null,
            "grid_area": null,
            "grid_auto_columns": null,
            "grid_auto_flow": null,
            "grid_auto_rows": null,
            "grid_column": null,
            "grid_gap": null,
            "grid_row": null,
            "grid_template_areas": null,
            "grid_template_columns": null,
            "grid_template_rows": null,
            "height": null,
            "justify_content": null,
            "justify_items": null,
            "left": null,
            "margin": null,
            "max_height": null,
            "max_width": null,
            "min_height": null,
            "min_width": null,
            "object_fit": null,
            "object_position": null,
            "order": null,
            "overflow": null,
            "overflow_x": null,
            "overflow_y": null,
            "padding": null,
            "right": null,
            "top": null,
            "visibility": null,
            "width": null
          }
        },
        "63939953cb794e47a45e212b06048439": {
          "model_module": "@jupyter-widgets/base",
          "model_module_version": "1.2.0",
          "model_name": "LayoutModel",
          "state": {
            "_model_module": "@jupyter-widgets/base",
            "_model_module_version": "1.2.0",
            "_model_name": "LayoutModel",
            "_view_count": null,
            "_view_module": "@jupyter-widgets/base",
            "_view_module_version": "1.2.0",
            "_view_name": "LayoutView",
            "align_content": null,
            "align_items": null,
            "align_self": null,
            "border": null,
            "bottom": null,
            "display": null,
            "flex": null,
            "flex_flow": null,
            "grid_area": null,
            "grid_auto_columns": null,
            "grid_auto_flow": null,
            "grid_auto_rows": null,
            "grid_column": null,
            "grid_gap": null,
            "grid_row": null,
            "grid_template_areas": null,
            "grid_template_columns": null,
            "grid_template_rows": null,
            "height": null,
            "justify_content": null,
            "justify_items": null,
            "left": null,
            "margin": null,
            "max_height": null,
            "max_width": null,
            "min_height": null,
            "min_width": null,
            "object_fit": null,
            "object_position": null,
            "order": null,
            "overflow": null,
            "overflow_x": null,
            "overflow_y": null,
            "padding": null,
            "right": null,
            "top": null,
            "visibility": null,
            "width": null
          }
        },
        "82bf2400fe444d0eb8f38ccda65db148": {
          "model_module": "@jupyter-widgets/controls",
          "model_module_version": "1.5.0",
          "model_name": "HTMLModel",
          "state": {
            "_dom_classes": [],
            "_model_module": "@jupyter-widgets/controls",
            "_model_module_version": "1.5.0",
            "_model_name": "HTMLModel",
            "_view_count": null,
            "_view_module": "@jupyter-widgets/controls",
            "_view_module_version": "1.5.0",
            "_view_name": "HTMLView",
            "description": "",
            "description_tooltip": null,
            "layout": "IPY_MODEL_5038c00e59b14b7291795f20e89a6d89",
            "placeholder": "​",
            "style": "IPY_MODEL_b3b9911a5e7e40819b107d3ea12b565f",
            "value": " 3374198/0 [01:47&lt;00:00, 24457.94 examples/s]"
          }
        },
        "ac4472a1c2d945a893c74081e5d9e7a3": {
          "model_module": "@jupyter-widgets/base",
          "model_module_version": "1.2.0",
          "model_name": "LayoutModel",
          "state": {
            "_model_module": "@jupyter-widgets/base",
            "_model_module_version": "1.2.0",
            "_model_name": "LayoutModel",
            "_view_count": null,
            "_view_module": "@jupyter-widgets/base",
            "_view_module_version": "1.2.0",
            "_view_name": "LayoutView",
            "align_content": null,
            "align_items": null,
            "align_self": null,
            "border": null,
            "bottom": null,
            "display": null,
            "flex": null,
            "flex_flow": null,
            "grid_area": null,
            "grid_auto_columns": null,
            "grid_auto_flow": null,
            "grid_auto_rows": null,
            "grid_column": null,
            "grid_gap": null,
            "grid_row": null,
            "grid_template_areas": null,
            "grid_template_columns": null,
            "grid_template_rows": null,
            "height": null,
            "justify_content": null,
            "justify_items": null,
            "left": null,
            "margin": null,
            "max_height": null,
            "max_width": null,
            "min_height": null,
            "min_width": null,
            "object_fit": null,
            "object_position": null,
            "order": null,
            "overflow": null,
            "overflow_x": null,
            "overflow_y": null,
            "padding": null,
            "right": null,
            "top": null,
            "visibility": null,
            "width": null
          }
        },
        "b3b9911a5e7e40819b107d3ea12b565f": {
          "model_module": "@jupyter-widgets/controls",
          "model_module_version": "1.5.0",
          "model_name": "DescriptionStyleModel",
          "state": {
            "_model_module": "@jupyter-widgets/controls",
            "_model_module_version": "1.5.0",
            "_model_name": "DescriptionStyleModel",
            "_view_count": null,
            "_view_module": "@jupyter-widgets/base",
            "_view_module_version": "1.2.0",
            "_view_name": "StyleView",
            "description_width": ""
          }
        },
        "c08f5fa202e3483387a115ab0fb7dc5d": {
          "model_module": "@jupyter-widgets/controls",
          "model_module_version": "1.5.0",
          "model_name": "HTMLModel",
          "state": {
            "_dom_classes": [],
            "_model_module": "@jupyter-widgets/controls",
            "_model_module_version": "1.5.0",
            "_model_name": "HTMLModel",
            "_view_count": null,
            "_view_module": "@jupyter-widgets/controls",
            "_view_module_version": "1.5.0",
            "_view_name": "HTMLView",
            "description": "",
            "description_tooltip": null,
            "layout": "IPY_MODEL_63939953cb794e47a45e212b06048439",
            "placeholder": "​",
            "style": "IPY_MODEL_134af9be68bd47f4bbbf43871abc6b01",
            "value": "song_lyrics_min.csv: 100%"
          }
        },
        "cb3cba295b964a819cda6fead30738a1": {
          "model_module": "@jupyter-widgets/controls",
          "model_module_version": "1.5.0",
          "model_name": "DescriptionStyleModel",
          "state": {
            "_model_module": "@jupyter-widgets/controls",
            "_model_module_version": "1.5.0",
            "_model_name": "DescriptionStyleModel",
            "_view_count": null,
            "_view_module": "@jupyter-widgets/base",
            "_view_module_version": "1.2.0",
            "_view_name": "StyleView",
            "description_width": ""
          }
        },
        "ec9c73061733467ca19638a349102ab0": {
          "model_module": "@jupyter-widgets/base",
          "model_module_version": "1.2.0",
          "model_name": "LayoutModel",
          "state": {
            "_model_module": "@jupyter-widgets/base",
            "_model_module_version": "1.2.0",
            "_model_name": "LayoutModel",
            "_view_count": null,
            "_view_module": "@jupyter-widgets/base",
            "_view_module_version": "1.2.0",
            "_view_name": "LayoutView",
            "align_content": null,
            "align_items": null,
            "align_self": null,
            "border": null,
            "bottom": null,
            "display": null,
            "flex": null,
            "flex_flow": null,
            "grid_area": null,
            "grid_auto_columns": null,
            "grid_auto_flow": null,
            "grid_auto_rows": null,
            "grid_column": null,
            "grid_gap": null,
            "grid_row": null,
            "grid_template_areas": null,
            "grid_template_columns": null,
            "grid_template_rows": null,
            "height": null,
            "justify_content": null,
            "justify_items": null,
            "left": null,
            "margin": null,
            "max_height": null,
            "max_width": null,
            "min_height": null,
            "min_width": null,
            "object_fit": null,
            "object_position": null,
            "order": null,
            "overflow": null,
            "overflow_x": null,
            "overflow_y": null,
            "padding": null,
            "right": null,
            "top": null,
            "visibility": null,
            "width": null
          }
        },
        "f5ce5749d50a4d0784b155c7c72dc7e8": {
          "model_module": "@jupyter-widgets/controls",
          "model_module_version": "1.5.0",
          "model_name": "HTMLModel",
          "state": {
            "_dom_classes": [],
            "_model_module": "@jupyter-widgets/controls",
            "_model_module_version": "1.5.0",
            "_model_name": "HTMLModel",
            "_view_count": null,
            "_view_module": "@jupyter-widgets/controls",
            "_view_module_version": "1.5.0",
            "_view_name": "HTMLView",
            "description": "",
            "description_tooltip": null,
            "layout": "IPY_MODEL_24d75184020744cc8d582739311c2448",
            "placeholder": "​",
            "style": "IPY_MODEL_cb3cba295b964a819cda6fead30738a1",
            "value": " 5.66G/5.66G [03:58&lt;00:00, 23.9MB/s]"
          }
        }
      }
    }
  },
  "nbformat": 4,
  "nbformat_minor": 0
}